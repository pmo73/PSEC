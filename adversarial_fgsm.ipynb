{
  "nbformat": 4,
  "nbformat_minor": 0,
  "metadata": {
    "accelerator": "GPU",
    "colab": {
      "name": "adversarial_fgsm.ipynb",
      "provenance": [],
      "private_outputs": true,
      "collapsed_sections": [],
      "toc_visible": true,
      "include_colab_link": true
    },
    "kernelspec": {
      "display_name": "Python 3",
      "language": "python",
      "name": "python3"
    },
    "language_info": {
      "codemirror_mode": {
        "name": "ipython",
        "version": 3
      },
      "file_extension": ".py",
      "mimetype": "text/x-python",
      "name": "python",
      "nbconvert_exporter": "python",
      "pygments_lexer": "ipython3",
      "version": "3.8.3"
    }
  },
  "cells": [
    {
      "cell_type": "markdown",
      "metadata": {
        "id": "view-in-github",
        "colab_type": "text"
      },
      "source": [
        "<a href=\"https://colab.research.google.com/github/pmo73/PSEC/blob/master/adversarial_fgsm.ipynb\" target=\"_parent\"><img src=\"https://colab.research.google.com/assets/colab-badge.svg\" alt=\"Open In Colab\"/></a>"
      ]
    },
    {
      "cell_type": "markdown",
      "metadata": {
        "colab_type": "text",
        "id": "zN5r-yJ3Vgu7"
      },
      "source": [
        "# **Attacks on Machine Learning**\n",
        "## **Übungsaufgaben**\n",
        "\n",
        "\n",
        "\n"
      ]
    },
    {
      "cell_type": "markdown",
      "metadata": {
        "colab_type": "text",
        "id": "hrjlPnc7wl8v"
      },
      "source": [
        "## Aufgabe 1 - Phasen des Machine Learnings\n",
        ">In der Vorlesung wurden Ihnen die vier Phasen des Machine Learnings vorgestellt.    \n",
        "Nennen Sie diese vier Phasen und erläutern Sie diese in ein bis zwei Sätzen."
      ]
    },
    {
      "cell_type": "markdown",
      "metadata": {
        "colab_type": "text",
        "id": "TsHQEMt9mdw9"
      },
      "source": [
        "## Aufgabe 2 - Attacken\n",
        "Im folgenden sind Ihnen drei Beispiele von Attacken auf Machine Learning Modelle aufgelistet. Ordnen Sie den Beispielen jeweils eine vorgestellte Attacke aus der Vorlesung zu und begründen Sie Ihre Wahl kurz.\n",
        "\n",
        "**Beispiel 1)**   \n",
        "> Erkennung eines Stop-Schildes als Tempolimit-Schild.   \n",
        "![Stop Sign](https://ieeexplore.ieee.org/mediastore_new/IEEE/content/media/6287639/8600701/8685687/garg8-2909068-large.gif)      \n",
        "> \n",
        ">(Paper: T. Gu, K. Liu, B. Dolan-Gavitt and S. Garg, \"BadNets: Evaluating Backdooring Attacks on Deep Neural Networks,\" in IEEE Access, vol. 7, pp. 47230-47244, 2019, doi: 10.1109/ACCESS.2019.2909068.)      \n",
        "\n",
        "\n",
        "\n",
        "\n",
        "\n",
        "\n",
        "**Beispiel 2)**   \n",
        ">Für dieses Beispiel schauen Sie sich bitte das nachfolgende Video des Spiels Coast Runners 7 an.     \n",
        "[Coast Runners 7](https://www.youtube.com/watch?time_continue=1&v=tlOIHko8ySg)   \n",
        "\n",
        "\n",
        "\n",
        "\n",
        "**Beispiel 3)**   \n",
        ">![alt text](https://d3i71xaburhd42.cloudfront.net/02bc27c39eaaa6b85d336be81b15ca19f112a950/2-Figure1-1.png)    \n",
        "[Bildquelle](https://d3i71xaburhd42.cloudfront.net/02bc27c39eaaa6b85d336be81b15ca19f112a950/2-Figure1-1.png)\n",
        ">\n",
        ">[Paper](https://dl.acm.org/doi/pdf/10.1145/2810103.2813677)\n",
        "\n",
        "\n",
        "\n"
      ]
    },
    {
      "cell_type": "markdown",
      "metadata": {
        "colab_type": "text",
        "id": "EkxMkqFFVUzz"
      },
      "source": [
        "## Aufgabe 3 - Fast Gradient Sign Method\n",
        "\n",
        "### a)\n",
        ">In ihrem Paper [Towards Evaluating the Robustness of Neural Networks](https://ieeexplore.ieee.org/abstract/document/7958570) diskutieren Carlini und Wagner in Abschnitt II.C den Unterschied zwischen targeted Attacks und untargeted Attacks. Handelt es sich bei der, in der Vorlesung vorgestellten **Fast Gradient Sign** Methode, um eine targeted oder untargeted Attack? Begründen Sie Ihre Antwort.\n",
        "### b)\n",
        "> Im Folgenden sind Code-Snippets gegeben, die Sie (in Google Colab oder als Jupyter-Notebook) ausführen können. Bitte ergänzen Sie in der entsprechend markierten Zeile (beachten Sie das TODO) den nötigen Code zur Implementierung der **Fast Gradient Sign** Methode. Sie können die Vorgegebenen Methoden als Hilfestellung nehmen. Eine Zelle können Sie ausführen durch die Tastenkombination Shift+Enter."
      ]
    },
    {
      "cell_type": "code",
      "metadata": {
        "colab_type": "code",
        "id": "vag2WYR6yTOC",
        "colab": {}
      },
      "source": [
        "# Diese Zelle dient dem Import der nötigen Module. Sollten Sie das Notebook nicht in Google Colab ausführen, kann es\n",
        "# sein, dass Sie zunächst die erforderlichen Module installieren müssen.\n",
        "import tensorflow as tf\n",
        "import numpy as np\n",
        "from matplotlib import pyplot as plt\n",
        "from tensorflow.keras.applications.mobilenet_v2 import decode_predictions, preprocess_input"
      ],
      "execution_count": null,
      "outputs": []
    },
    {
      "cell_type": "code",
      "metadata": {
        "colab_type": "code",
        "id": "nqhk2vYx6Ag0",
        "colab": {}
      },
      "source": [
        "# In dieser Zelle wird ein vortrainiertes Modell geladen. Dies kann je nach Internetanbindung bei lokaler Ausführung einige Zeit in Anspruch nehmen.\n",
        "pretrained_model = tf.keras.applications.MobileNetV2()"
      ],
      "execution_count": null,
      "outputs": []
    },
    {
      "cell_type": "code",
      "metadata": {
        "colab_type": "code",
        "id": "f2cLrJH0zpfC",
        "colab": {}
      },
      "source": [
        "def download_image(file_name, url):\n",
        "  path = tf.keras.utils.get_file(file_name, url)\n",
        "  image_raw = tf.io.read_file(path)\n",
        "  image = tf.image.decode_image(image_raw)\n",
        "  image = tf.image.resize(image, (224, 224))\n",
        "  image = tf.keras.applications.mobilenet_v2.preprocess_input(image)\n",
        "  image = image[None, ...]\n",
        "  return image\n",
        "\n",
        "def print_prediction(image):\n",
        "  predictions = pretrained_model.predict(image)\n",
        "  _, predicted_label, certainty = decode_predictions(predictions, top=1)[0][0]\n",
        "  print('Classifier believes image to be {} with certainty {:.2f}'.format(predicted_label, certainty))\n",
        "\n",
        "def show_image(image):\n",
        "  # MobileNetV2 erwartet Bilddaten im Interval [-1,1] für die Visualisierung\n",
        "  # wollen wir allerdings Bilddaten im Interval [0,1]\n",
        "  plt.imshow(image[0]*0.5 + 0.5)\n",
        "  plt.show()"
      ],
      "execution_count": null,
      "outputs": []
    },
    {
      "cell_type": "code",
      "metadata": {
        "colab_type": "code",
        "id": "wpYrQ4OQSYWk",
        "colab": {}
      },
      "source": [
        "# url kann durch beliebige url angepasst werden. Das Modell wurde auf quadratische Bilder trainiert.\n",
        "# Quadratische Bilder werden in der Regel besser erkannt.\n",
        "# Das Open Images Dataset von Google ist eine gute Quelle für Bilder, die nach label durchsucht werden können (https://storage.googleapis.com/openimages/web/index.html)\n",
        "# Wir verwenden ein Bild von  lin padgham (https://www.flickr.com/people/linpadgham/), das wir über das Open Images Dataset gefunden haben.\n",
        "fname, url = 'download.jpg', 'https://c4.staticflickr.com/4/3130/2589169743_1f93f21747_z.jpg'\n",
        "image = download_image(fname, url)\n",
        "show_image(image)\n",
        "print_prediction(image)"
      ],
      "execution_count": null,
      "outputs": []
    },
    {
      "cell_type": "code",
      "metadata": {
        "colab_type": "code",
        "id": "kHWL8cz_na_4",
        "colab": {}
      },
      "source": [
        "def get_gradient(image, label):\n",
        "  with tf.GradientTape() as t:\n",
        "    t.watch(image)\n",
        "    prediction = tf.dtypes.cast(pretrained_model(image)[0], tf.float64)\n",
        "    loss = tf.keras.losses.categorical_crossentropy(label, prediction)\n",
        "  return t.gradient(loss, image)\n",
        "\n",
        "def category_to_label(imagenet_category):\n",
        "  label = np.zeros(1000)\n",
        "  label[imagenet_category] = 1\n",
        "  return label"
      ],
      "execution_count": null,
      "outputs": []
    },
    {
      "cell_type": "code",
      "metadata": {
        "colab_type": "code",
        "id": "VK0uGvBQo2JO",
        "colab": {}
      },
      "source": [
        "# Das label wird benötigt um den Gradienten der Kostenfunktion mit der Methode get_gradient zu bestimmen.\n",
        "# Sollten Sie ein anderes Bild verwenden, dann sollten Sie auch das label anpassen. Das passende label entnehmen\n",
        "# Sie dann bitte hier: https://gist.github.com/yrevar/942d3a0ac09ec9e5eb3a\n",
        "label = category_to_label(145) # 145 entspricht dem label 'king penguin'"
      ],
      "execution_count": null,
      "outputs": []
    },
    {
      "cell_type": "code",
      "metadata": {
        "colab_type": "code",
        "id": "bgLXP4PdZJYh",
        "colab": {}
      },
      "source": [
        "# TODO: Ergänzen Sie in der folgenden Zeile den Code zur Berechnung des Adversarial Images nach der Fast Gradient Sign Method (Tipp: tf.sign() verwenden)\n",
        "adv_image = image # + ..."
      ],
      "execution_count": null,
      "outputs": []
    },
    {
      "cell_type": "code",
      "metadata": {
        "colab_type": "code",
        "id": "NYXB-R6Qpt2Q",
        "colab": {}
      },
      "source": [
        "# Visualisierung und Klassifizierung des Adversarial Images\n",
        "show_image(adv_image)\n",
        "print_prediction(adv_image)"
      ],
      "execution_count": null,
      "outputs": []
    },
    {
      "cell_type": "markdown",
      "metadata": {
        "colab_type": "text",
        "id": "3Ur2fUqMeuZJ"
      },
      "source": [
        "### c)\n",
        "> Welche Bedeutung hat der Parameter $\\epsilon$? Was fällt Ihnen auf, wenn Sie einen hohen Wert für $\\epsilon$ (z.B. 1) wählen, im Vergleich zu einem kleinen Wert (z.B. 0.000001). Verändert sich die Klassifikation?"
      ]
    },
    {
      "cell_type": "markdown",
      "metadata": {
        "colab_type": "text",
        "id": "76QMsfL-eEZq"
      },
      "source": [
        "### d)\n",
        "> Verwenden Sie nun Ihre Implementierung der **Fast Gradient Sign** Methode um ein möglichst kleines $\\epsilon$ (mit Genauigkeit von drei Nachkommastellen) zu finden, für das eine Missklassifikation erfolgt.         \n",
        ">(Tipp: Sie können eine manuelle binäre Suche durchführen, um relativ schnell ein $\\epsilon$  finden)"
      ]
    },
    {
      "cell_type": "markdown",
      "metadata": {
        "colab_type": "text",
        "id": "Avm22cadg_ZK"
      },
      "source": [
        "## Aufgabe 4 - Vergleich des Carlini-Wagner Angriffs mit der Fast Gradient Sign Methode\n",
        "> Vergleichen Sie, den in der Vorlesung vorgestellten Carlini-Wagner Angriff mit der Fast Gradient Sign Methode. Welche Vor- bzw. Nachteile bietet der Carlini-Wagner Angriff gegenüber der Fast Gradient Sign Methode."
      ]
    }
  ]
}